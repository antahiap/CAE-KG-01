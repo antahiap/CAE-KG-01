{
 "cells": [
  {
   "cell_type": "code",
   "execution_count": 1,
   "metadata": {},
   "outputs": [],
   "source": [
    "%matplotlib inline \n",
    "\n",
    "import sys\n",
    "import os\n",
    "import matplotlib.pyplot as plt\n",
    "\n",
    "norm_list = [\n",
    "    \"ie_tot_max\",   # 0\n",
    "    \"ie_prt_max\",   # 1\n",
    "    \"ke_tot_max\",   # 2\n",
    "\n",
    "    \"ie_t0_ll\",     # 3\n",
    "    \"t0_ll_pp\",     # 4\n",
    "    \"ie_t0_grad\",   # 5\n",
    "    \"t0_grad_pp\",   # 6\n",
    "\n",
    "    \"ie_tn_pct\",    # 7\n",
    "    \"tn_pct_max\",   # 8\n",
    "    \"ie_tn_max\",    # 9\n",
    "    \"tn_max_max\"]   # 10\n",
    "\n",
    "feat_list = [\n",
    "    \"nrg_max\",  # 0\n",
    "\n",
    "    \"t0_grad\",  # 1\n",
    "    \"t0_ll\",    # 2\n",
    "\n",
    "    \"tn_pct\",   # 3\n",
    "    \"tn_max\"    # 4\n",
    "    ]\n",
    "\n",
    "sys.path.append('../../note_scripts')\n",
    "import cypher_notebook_nrg as cy"
   ]
  },
  {
   "cell_type": "code",
   "execution_count": 2,
   "metadata": {},
   "outputs": [
    {
     "name": "stderr",
     "output_type": "stream",
     "text": [
      "/home/apakiman/kg01/envs/lib/python3.7/site-packages/ipykernel/ipkernel.py:287: DeprecationWarning: `should_run_async` will not call `transform_cell` automatically in the future. Please pass the result to `transformed_cell` argument and any exception that happen during thetransform in `preprocessing_exc_tuple` in IPython 7.17 and above.\n",
      "  and should_run_async(code)\n"
     ]
    }
   ],
   "source": [
    "nrmList = 'ROB_VOWA_505.*'\n",
    "simList = ['ROB_VOWA_505_Design0014', 'ROB_VOWA_505_Design0013']\n",
    "\n",
    "sims_nrg, sims_pid = cy.feed_normalization(nrmList, simList)\n",
    "print(sims_nrg)"
   ]
  },
  {
   "cell_type": "code",
   "execution_count": null,
   "metadata": {},
   "outputs": [],
   "source": []
  }
 ],
 "metadata": {
  "kernelspec": {
   "display_name": "Django Shell-Plus",
   "language": "python",
   "name": "django_extensions"
  },
  "language_info": {
   "codemirror_mode": {
    "name": "ipython",
    "version": 3
   },
   "file_extension": ".py",
   "mimetype": "text/x-python",
   "name": "python",
   "nbconvert_exporter": "python",
   "pygments_lexer": "ipython3",
   "version": "3.7.4"
  }
 },
 "nbformat": 4,
 "nbformat_minor": 4
}
