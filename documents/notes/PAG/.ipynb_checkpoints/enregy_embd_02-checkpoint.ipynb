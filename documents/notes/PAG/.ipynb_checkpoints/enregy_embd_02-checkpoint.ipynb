{
 "cells": [
  {
   "cell_type": "code",
   "execution_count": 1,
   "metadata": {
    "scrolled": true
   },
   "outputs": [],
   "source": [
    "%matplotlib inline \n",
    "\n",
    "\n",
    "import sys\n",
    "import os\n",
    "import numpy as np\n",
    "import matplotlib.pyplot as plt\n",
    "\n",
    "\n",
    "norm_list = [\n",
    "    \"ie_tot_max\",   # 0\n",
    "    \"ie_prt_max\",   # 1\n",
    "    \"ke_tot_max\",   # 2\n",
    "\n",
    "    \"ie_t0_ll\",     # 3\n",
    "    \"t0_ll_pp\",     # 4\n",
    "    \"ie_t0_grad\",   # 5\n",
    "    \"t0_grad_pp\",   # 6\n",
    "\n",
    "    \"ie_tn_pct\",    # 7\n",
    "    \"tn_pct_max\",   # 8\n",
    "    \"ie_tn_max\",    # 9\n",
    "    \"tn_max_max\"]   # 10\n",
    "\n",
    "feat_list = [\n",
    "    \"nrg_max\",  # 0\n",
    "\n",
    "    \"t0_grad\",  # 1\n",
    "    \"t0_ll\",    # 2\n",
    "\n",
    "    \"tn_pct\",   # 3\n",
    "    \"tn_max\"    # 4\n",
    "    ]\n",
    "\n",
    "sys.path.append('../../note_scripts')\n",
    "import cypher_notebook_nrg as cy"
   ]
  },
  {
   "cell_type": "code",
   "execution_count": 2,
   "metadata": {},
   "outputs": [
    {
     "ename": "NameError",
     "evalue": "name 'nrmList' is not defined",
     "output_type": "error",
     "traceback": [
      "\u001b[0;31m---------------------------------------------------------------------------\u001b[0m",
      "\u001b[0;31mNameError\u001b[0m                                 Traceback (most recent call last)",
      "\u001b[0;32m<ipython-input-2-21f2d2fd71ab>\u001b[0m in \u001b[0;36m<module>\u001b[0;34m\u001b[0m\n\u001b[1;32m      1\u001b[0m \u001b[0msimList\u001b[0m \u001b[0;34m=\u001b[0m \u001b[0mcy\u001b[0m\u001b[0;34m.\u001b[0m\u001b[0mmake_simList\u001b[0m\u001b[0;34m(\u001b[0m\u001b[0;34m[\u001b[0m\u001b[0;34m'.*'\u001b[0m\u001b[0;34m]\u001b[0m\u001b[0;34m,\u001b[0m \u001b[0;34m[\u001b[0m\u001b[0;34m'.*'\u001b[0m\u001b[0;34m]\u001b[0m\u001b[0;34m,\u001b[0m \u001b[0;36m30\u001b[0m\u001b[0;34m)\u001b[0m\u001b[0;34m\u001b[0m\u001b[0;34m\u001b[0m\u001b[0m\n\u001b[0;32m----> 2\u001b[0;31m \u001b[0msims_nrg\u001b[0m\u001b[0;34m,\u001b[0m \u001b[0msims_pid\u001b[0m \u001b[0;34m=\u001b[0m \u001b[0mcy\u001b[0m\u001b[0;34m.\u001b[0m\u001b[0mfeed_normalization\u001b[0m\u001b[0;34m(\u001b[0m\u001b[0mnrmList\u001b[0m\u001b[0;34m,\u001b[0m \u001b[0msimList\u001b[0m\u001b[0;34m,\u001b[0m \u001b[0mnorm_opt\u001b[0m\u001b[0;34m,\u001b[0m \u001b[0mft_opt\u001b[0m\u001b[0;34m)\u001b[0m\u001b[0;34m\u001b[0m\u001b[0;34m\u001b[0m\u001b[0m\n\u001b[0m",
      "\u001b[0;31mNameError\u001b[0m: name 'nrmList' is not defined"
     ]
    }
   ],
   "source": [
    "nrmList = ''\n",
    "simList = cy.make_simList(['.*'], ['.*'], 30)\n",
    "sims_nrg, sims_pid = cy.feed_normalization(nrmList, simList, norm_opt, ft_opt)"
   ]
  },
  {
   "cell_type": "code",
   "execution_count": null,
   "metadata": {},
   "outputs": [],
   "source": []
  },
  {
   "cell_type": "code",
   "execution_count": null,
   "metadata": {},
   "outputs": [],
   "source": []
  }
 ],
 "metadata": {
  "kernelspec": {
   "display_name": "Django Shell-Plus",
   "language": "python",
   "name": "django_extensions"
  },
  "language_info": {
   "codemirror_mode": {
    "name": "ipython",
    "version": 3
   },
   "file_extension": ".py",
   "mimetype": "text/x-python",
   "name": "python",
   "nbconvert_exporter": "python",
   "pygments_lexer": "ipython3",
   "version": "3.7.4"
  }
 },
 "nbformat": 4,
 "nbformat_minor": 4
}
